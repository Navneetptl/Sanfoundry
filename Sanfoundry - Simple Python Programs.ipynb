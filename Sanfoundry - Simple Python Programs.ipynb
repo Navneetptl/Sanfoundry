{
 "cells": [
  {
   "cell_type": "code",
   "execution_count": null,
   "metadata": {},
   "outputs": [],
   "source": [
    "# To Calculate the Average of Numbers in a Given List\n",
    "\n",
    "n=int(input(\"Enter the number of observations:\"))\n",
    "list_of_observations=[]\n",
    "for i in range(1,n+1):\n",
    "    obs=int(input(f\"Enter the {i} observation\"))\n",
    "    list_of_observations.append(obs)\n",
    "avg=sum(list_of_observations)/n\n",
    "print(\"Average of elements in the list:\",round(avg,2))"
   ]
  },
  {
   "cell_type": "code",
   "execution_count": 7,
   "metadata": {},
   "outputs": [
    {
     "name": "stdout",
     "output_type": "stream",
     "text": [
      "Enter 1st Number4\n",
      "Enter 2nd Number3\n",
      "1st Number is: 3\n",
      "2nd Number is: 4\n"
     ]
    }
   ],
   "source": [
    "# To exchange the values of two numbers with using temporary variable\n",
    "\n",
    "x=int(input(\"Enter 1st Number\"))\n",
    "y=int(input(\"Enter 2nd Number\"))\n",
    "temp1=x\n",
    "temp2=y\n",
    "x=temp2\n",
    "y=temp1\n",
    "print(\"1st Number is:\",x)\n",
    "print(\"2nd Number is:\",y)"
   ]
  },
  {
   "cell_type": "code",
   "execution_count": 3,
   "metadata": {},
   "outputs": [
    {
     "name": "stdout",
     "output_type": "stream",
     "text": [
      "Enter 1st Number4\n",
      "Enter 2nd Number3\n",
      "1st Number is: 3\n",
      "2nd Number is: 4\n"
     ]
    }
   ],
   "source": [
    "# To exchange the values of two numbers without using a temporary variable\n",
    "\n",
    "x=int(input(\"Enter 1st Number\"))\n",
    "y=int(input(\"Enter 2nd Number\"))\n",
    "x=x+y\n",
    "y=x-y\n",
    "x=x-y\n",
    "print(\"1st Number is:\",x)\n",
    "print(\"2nd Number is:\",y)"
   ]
  },
  {
   "cell_type": "code",
   "execution_count": 19,
   "metadata": {},
   "outputs": [
    {
     "name": "stdout",
     "output_type": "stream",
     "text": [
      "Enter the value of n:5\n",
      "The number is of n+nn+nnn is : 615\n"
     ]
    }
   ],
   "source": [
    "# To read a number n and compute n+nn+nnn\n",
    "\n",
    "n=int(input(\"Enter the value of n:\"))\n",
    "n=str(n)\n",
    "temp1=n+n\n",
    "temp2=temp1+n\n",
    "output1=int(n)+int(temp1)+int(temp2)\n",
    "print(\"The number is of n+nn+nnn is :\",output1)"
   ]
  },
  {
   "cell_type": "code",
   "execution_count": 1,
   "metadata": {},
   "outputs": [
    {
     "name": "stdout",
     "output_type": "stream",
     "text": [
      "Enter a number to be reversed:67543\n",
      "the reversed number is: 34576\n"
     ]
    }
   ],
   "source": [
    "# To reverse a given numbers\n",
    "\n",
    "number=int(input(\"Enter a number to be reversed:\"))\n",
    "number=str(number)\n",
    "number=number[::-1]\n",
    "print(\"the reversed number is:\",number)"
   ]
  },
  {
   "cell_type": "code",
   "execution_count": 2,
   "metadata": {},
   "outputs": [
    {
     "name": "stdout",
     "output_type": "stream",
     "text": [
      "Enter a number:-19\n",
      "The number is negative\n"
     ]
    }
   ],
   "source": [
    "# To check whether a number is positive or negative.\n",
    "\n",
    "number=int(input(\"Enter a number:\"))\n",
    "if number>=0:\n",
    "    print(\"The number is Positive\")\n",
    "else:\n",
    "    print(\"The number is Negative\")"
   ]
  },
  {
   "cell_type": "code",
   "execution_count": null,
   "metadata": {},
   "outputs": [],
   "source": [
    "# To take in the marks of 5 subjects and display the grade\n",
    "\n",
    "numofsubs=int(input(\"Enter number of subjects\"))\n",
    "a=[]\n",
    "for i in range(1,numofsubs+1):\n",
    "    sub1= int(input(f\"Enter marks of {i} Subject\"))\n",
    "    a.append(sub1)\n",
    "avg=sum(a)/numofsubs\n",
    "\n",
    "if avg>=90:\n",
    "    print(\"Grade A\")\n",
    "elif avg>=80&avg<90:\n",
    "    print(\"Grade B\")\n",
    "elif(avg>=70&avg<80):\n",
    "    print(\"Grade: C\")\n",
    "elif(avg>=60&avg<70):\n",
    "    print(\"Grade: D\")\n",
    "else:\n",
    "    print(\"Grade: F\")"
   ]
  },
  {
   "cell_type": "code",
   "execution_count": 5,
   "metadata": {},
   "outputs": [
    {
     "name": "stdout",
     "output_type": "stream",
     "text": [
      "Enter lower limit10\n",
      "Enter Upper Limit50\n",
      "Enter 5\n",
      "10\n",
      "15\n",
      "20\n",
      "25\n",
      "30\n",
      "35\n",
      "40\n",
      "45\n"
     ]
    }
   ],
   "source": [
    "# To Print all Numbers in a Range Divisible by a Given Number\n",
    "\n",
    "Lower_lim=int(input(\"Enter lower limit\"))\n",
    "upper_lim=int(input(\"Enter Upper Limit\"))\n",
    "number=int(input(\"Enter \"))\n",
    "\n",
    "for i in range(Lower_lim,upper_lim):\n",
    "    if i%number==0:\n",
    "        print(i)"
   ]
  },
  {
   "cell_type": "code",
   "execution_count": 45,
   "metadata": {},
   "outputs": [
    {
     "name": "stdout",
     "output_type": "stream",
     "text": [
      "Enter the 1st number:4\n",
      "Enter the 2nd number:5\n",
      "Enter the 3rd number:6\n"
     ]
    },
    {
     "data": {
      "text/plain": [
       "[456, 465, 546, 564, 645, 654]"
      ]
     },
     "execution_count": 45,
     "metadata": {},
     "output_type": "execute_result"
    }
   ],
   "source": [
    "# to accept three distinct digits and print all possible combinations from the digits\n",
    "\n",
    "a=int(input(\"Enter the 1st number:\"))\n",
    "b=int(input(\"Enter the 2nd number:\"))\n",
    "c=int(input(\"Enter the 3rd number:\"))\n",
    "d=[]0\n",
    "d.extend([a,b,c])\n",
    "e=[]\n",
    "for i in range(0,3):\n",
    "    for j in range(0,3):\n",
    "        for k in range(0,3):\n",
    "            if(i!=j&j!=k&k!=i):\n",
    "                temp=str(d[i])+str(d[j])+str(d[k])\n",
    "                e.append(int(temp))\n",
    "print(e)"
   ]
  },
  {
   "cell_type": "code",
   "execution_count": 47,
   "metadata": {},
   "outputs": [
    {
     "name": "stdout",
     "output_type": "stream",
     "text": [
      "Enter upper limit:2\n",
      "Enter lower limit:20\n",
      "[3, 5, 7, 9, 11, 13, 15, 17, 19]\n"
     ]
    }
   ],
   "source": [
    "#to print odd numbers within a given range\n",
    "\n",
    "start=int(input(\"Enter upper limit:\"))\n",
    "end=int(input(\"Enter lower limit:\"))\n",
    "my_list=[]\n",
    "for i in range(start,end):\n",
    "    if i%2!=0:\n",
    "        my_list.append(i)\n",
    "print(my_list)"
   ]
  },
  {
   "cell_type": "code",
   "execution_count": 83,
   "metadata": {},
   "outputs": [
    {
     "name": "stdout",
     "output_type": "stream",
     "text": [
      "Enter a number:456\n",
      "15\n"
     ]
    }
   ],
   "source": [
    "#to find the sum of digits in a number\n",
    "\n",
    "my_digit=(input(\"Enter a number:\"))\n",
    "digit_list=[]\n",
    "digit_list.extend(my_digit)\n",
    "my_sum=0\n",
    "for i in range(len(digit_list)):\n",
    "    my_elem=int(digit_list[i])\n",
    "    my_sum=my_sum+my_elem\n",
    "print(my_sum)"
   ]
  },
  {
   "cell_type": "code",
   "execution_count": 90,
   "metadata": {},
   "outputs": [
    {
     "name": "stdout",
     "output_type": "stream",
     "text": [
      "Enter an Integer:33\n",
      "Smallest divisor of 33 is: 11\n"
     ]
    }
   ],
   "source": [
    "#to find the smallest divisor of an integer\n",
    "\n",
    "my_integer=int(input(\"Enter an Integer:\"))\n",
    "divisor_list=[]\n",
    "for i in range(2,my_integer):\n",
    "    if my_integer%i==0:\n",
    "        divisor_list.append(i)\n",
    "divisor_list.sort()\n",
    "print(f\"Smallest divisor of {my_integer} is:\",divisor_list[1])"
   ]
  },
  {
   "cell_type": "code",
   "execution_count": 98,
   "metadata": {},
   "outputs": [
    {
     "name": "stdout",
     "output_type": "stream",
     "text": [
      "Enter a number:345668\n",
      "Number of digits in 345668 is:  6\n"
     ]
    }
   ],
   "source": [
    "#to count the number of digits in a number\n",
    "\n",
    "my_digit=int(input(\"Enter a number:\"))\n",
    "my_digit_char=str(my_digit)\n",
    "digit_count= len(my_digit_char)\n",
    "print(f\"Number of digits in {my_digit} is: \",digit_count)"
   ]
  },
  {
   "cell_type": "code",
   "execution_count": 124,
   "metadata": {},
   "outputs": [
    {
     "name": "stdout",
     "output_type": "stream",
     "text": [
      "Enter a number:123321\n",
      "The number 123321 is Palindrome\n"
     ]
    }
   ],
   "source": [
    "# to check whether a given number is a palindrome\n",
    "\n",
    "my_number=int(input(\"Enter a number:\"))\n",
    "my_number_char=str(my_number)\n",
    "temp=my_number_char\n",
    "if my_number_char[::-1]==temp:\n",
    "    print(f\"The number {my_number} is Palindrome\")\n",
    "else:\n",
    "    print(f\"The number {my_number} is not Palindrome\")"
   ]
  },
  {
   "cell_type": "code",
   "execution_count": 127,
   "metadata": {},
   "outputs": [],
   "source": [
    "#to print all integers that aren’t divisible by either 2 or 3 and lies between 1 and 50\n",
    "\n",
    "for i in range(0,51):\n",
    "    if(i%2!=0&i%3!=0):\n",
    "        print(i)"
   ]
  },
  {
   "cell_type": "code",
   "execution_count": 130,
   "metadata": {},
   "outputs": [
    {
     "name": "stdout",
     "output_type": "stream",
     "text": [
      "Enter a number:3\n",
      "6\n"
     ]
    }
   ],
   "source": [
    "#to read a number n and print and compute the series “1+2+…+n=”\n",
    "n=int(input(\"Enter a number:\"))\n",
    "my_sum=0\n",
    "for i in range(0,n+1):\n",
    "    my_sum = my_sum+i\n",
    "    \n",
    "print(my_sum)\n",
    "\n"
   ]
  },
  {
   "cell_type": "code",
   "execution_count": 152,
   "metadata": {},
   "outputs": [
    {
     "name": "stdout",
     "output_type": "stream",
     "text": [
      "Enter a number: 10\n",
      "1 = 1\n",
      "1 + 2 = 3\n",
      "1 + 2 + 3 = 6\n",
      "1 + 2 + 3 + 4 = 10\n",
      "1 + 2 + 3 + 4 + 5 = 15\n",
      "1 + 2 + 3 + 4 + 5 + 6 = 21\n",
      "1 + 2 + 3 + 4 + 5 + 6 + 7 = 28\n",
      "1 + 2 + 3 + 4 + 5 + 6 + 7 + 8 = 36\n",
      "1 + 2 + 3 + 4 + 5 + 6 + 7 + 8 + 9 = 45\n",
      "1 + 2 + 3 + 4 + 5 + 6 + 7 + 8 + 9 + 10 = 55\n"
     ]
    }
   ],
   "source": [
    "#to read a number n and print the natural numbers summation pattern\n",
    "n=int(input(\"Enter a number: \"))\n",
    "for j in range(1,n+1):\n",
    "    a=[]\n",
    "    for i in range(1,j+1):\n",
    "        print(i,sep=\" \",end=\" \")\n",
    "        if(i<j):\n",
    "            print(\"+\",sep=\" \",end=\" \")\n",
    "        a.append(i)\n",
    "    print(\"=\",sum(a))"
   ]
  },
  {
   "cell_type": "code",
   "execution_count": 179,
   "metadata": {},
   "outputs": [
    {
     "name": "stdout",
     "output_type": "stream",
     "text": [
      "Enter a number: 5\n",
      "1 0 0 0 0 \n",
      "0 1 0 0 0 \n",
      "0 0 1 0 0 \n",
      "0 0 0 1 0 \n",
      "0 0 0 0 1 \n"
     ]
    }
   ],
   "source": [
    "#to print identity matrix\n",
    "n=int(input(\"Enter a number: \"))\n",
    "for j in range(0,n):\n",
    "    for i in range(0,n):\n",
    "        if (i==j):\n",
    "            print(1,sep=\" \",end=\" \")\n",
    "        else:\n",
    "            print(0,sep=\" \",end=\" \")\n",
    "    print()"
   ]
  },
  {
   "cell_type": "code",
   "execution_count": 180,
   "metadata": {},
   "outputs": [
    {
     "name": "stdout",
     "output_type": "stream",
     "text": [
      "Enter a number: 5\n",
      "1 0 0 0 0 \n",
      "0 1 0 0 0 \n",
      "0 0 1 0 0 \n",
      "0 0 0 1 0 \n",
      "0 0 0 0 1 \n"
     ]
    }
   ],
   "source": [
    "#to print identity matrix\n",
    "n=int(input(\"Enter a number: \"))\n",
    "for j in range(0,n):\n",
    "    a=[]\n",
    "    for i in range(0,n):\n",
    "        if(i==j):\n",
    "            print(1,sep=\" \",end=\" \")\n",
    "        else:\n",
    "            print(0,sep=\" \",end=\" \")\n",
    "        a.append(i)\n",
    "    print()"
   ]
  },
  {
   "cell_type": "code",
   "execution_count": 195,
   "metadata": {},
   "outputs": [
    {
     "name": "stdout",
     "output_type": "stream",
     "text": [
      "Enter Year:1900\n",
      "Year 1900 is not Leap year\n"
     ]
    }
   ],
   "source": [
    "#to check whether a given year is a leap year or not\n",
    "my_year=int(input(\"Enter Year:\"))\n",
    "if my_year%4==0 and my_year%100!=0 or my_year%400==0:\n",
    "    print(f\"Year {my_year} is Leap year\")\n",
    "else:\n",
    "    print(f\"Year {my_year} is not Leap year\")"
   ]
  },
  {
   "cell_type": "code",
   "execution_count": null,
   "metadata": {},
   "outputs": [],
   "source": [
    "#to read height in centimeters and then convert the height to feet and inches\n",
    "\n"
   ]
  },
  {
   "cell_type": "code",
   "execution_count": null,
   "metadata": {},
   "outputs": [],
   "source": []
  }
 ],
 "metadata": {
  "kernelspec": {
   "display_name": "Python 3",
   "language": "python",
   "name": "python3"
  },
  "language_info": {
   "codemirror_mode": {
    "name": "ipython",
    "version": 3
   },
   "file_extension": ".py",
   "mimetype": "text/x-python",
   "name": "python",
   "nbconvert_exporter": "python",
   "pygments_lexer": "ipython3",
   "version": "3.8.3"
  }
 },
 "nbformat": 4,
 "nbformat_minor": 4
}
